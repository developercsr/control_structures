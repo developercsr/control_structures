{
 "cells": [
  {
   "cell_type": "code",
   "execution_count": 4,
   "id": "100de490-198c-4e7f-82b2-c5f00e804c7f",
   "metadata": {},
   "outputs": [
    {
     "name": "stdout",
     "output_type": "stream",
     "text": [
      "Login Page\n"
     ]
    },
    {
     "name": "stdin",
     "output_type": "stream",
     "text": [
      "Enter User id :  nhfiwufhi\n"
     ]
    },
    {
     "name": "stdout",
     "output_type": "stream",
     "text": [
      "INVALID USERNAME\n"
     ]
    }
   ],
   "source": [
    "#Nested if\n",
    "#LET US ASSUME A USER AND HIS PASSWORD\n",
    "user = \"bharath\"\n",
    "password=\"hari om\"\n",
    "def main():\n",
    "    global user,password\n",
    "    print(\"Login Page\")\n",
    "    id=input(\"Enter User id : \")\n",
    "    if id==user:\n",
    "        pa=input(\"Enter your password please\")\n",
    "        if pa==password:\n",
    "            print(\"SUCCESSFUL\")\n",
    "        else:\n",
    "            print(\"PASSWORD WRONG\")\n",
    "    else :\n",
    "        print(\"INVALID USERNAME\")\n",
    "if __name__==\"__main__\":\n",
    "    main()\n",
    "    "
   ]
  }
 ],
 "metadata": {
  "kernelspec": {
   "display_name": "Python 3 (ipykernel)",
   "language": "python",
   "name": "python3"
  },
  "language_info": {
   "codemirror_mode": {
    "name": "ipython",
    "version": 3
   },
   "file_extension": ".py",
   "mimetype": "text/x-python",
   "name": "python",
   "nbconvert_exporter": "python",
   "pygments_lexer": "ipython3",
   "version": "3.11.5"
  }
 },
 "nbformat": 4,
 "nbformat_minor": 5
}
