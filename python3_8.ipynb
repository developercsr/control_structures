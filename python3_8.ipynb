{
 "cells": [
  {
   "cell_type": "code",
   "execution_count": 14,
   "id": "885f78cb-ee1b-4b90-9b98-751c677e2ece",
   "metadata": {},
   "outputs": [
    {
     "name": "stdin",
     "output_type": "stream",
     "text": [
      "Enter the tables you want to print :  5\n"
     ]
    },
    {
     "name": "stdout",
     "output_type": "stream",
     "text": [
      "0 * 0 = 0 | 1 * 0 = 0 | 2 * 0 = 0 | 3 * 0 = 0 | 4 * 0 = 0 | 5 * 0 = 0 | \n",
      "\n",
      "0 * 1 = 0 | 1 * 1 = 1 | 2 * 1 = 2 | 3 * 1 = 3 | 4 * 1 = 4 | 5 * 1 = 5 | \n",
      "\n",
      "0 * 2 = 0 | 1 * 2 = 2 | 2 * 2 = 4 | 3 * 2 = 6 | 4 * 2 = 8 | 5 * 2 = 10 | \n",
      "\n",
      "0 * 3 = 0 | 1 * 3 = 3 | 2 * 3 = 6 | 3 * 3 = 9 | 4 * 3 = 12 | 5 * 3 = 15 | \n",
      "\n",
      "0 * 4 = 0 | 1 * 4 = 4 | 2 * 4 = 8 | 3 * 4 = 12 | 4 * 4 = 16 | 5 * 4 = 20 | \n",
      "\n",
      "0 * 5 = 0 | 1 * 5 = 5 | 2 * 5 = 10 | 3 * 5 = 15 | 4 * 5 = 20 | 5 * 5 = 25 | \n",
      "\n",
      "0 * 6 = 0 | 1 * 6 = 6 | 2 * 6 = 12 | 3 * 6 = 18 | 4 * 6 = 24 | 5 * 6 = 30 | \n",
      "\n",
      "0 * 7 = 0 | 1 * 7 = 7 | 2 * 7 = 14 | 3 * 7 = 21 | 4 * 7 = 28 | 5 * 7 = 35 | \n",
      "\n",
      "0 * 8 = 0 | 1 * 8 = 8 | 2 * 8 = 16 | 3 * 8 = 24 | 4 * 8 = 32 | 5 * 8 = 40 | \n",
      "\n",
      "0 * 9 = 0 | 1 * 9 = 9 | 2 * 9 = 18 | 3 * 9 = 27 | 4 * 9 = 36 | 5 * 9 = 45 | \n",
      "\n",
      "0 * 10 = 0 | 1 * 10 = 10 | 2 * 10 = 20 | 3 * 10 = 30 | 4 * 10 = 40 | 5 * 10 = 50 | \n",
      "\n"
     ]
    }
   ],
   "source": [
    "#nested for loops\n",
    "#tables\n",
    "inn=int(input(\"Enter the tables you want to print : \"))\n",
    "for i in range(0,11):\n",
    "    for j in range(0,inn+1):\n",
    "        print(j,\"*\",i,\"=\",j*i,end=\" | \")\n",
    "    print(\"\\n\")\n"
   ]
  },
  {
   "cell_type": "code",
   "execution_count": null,
   "id": "c421db90-1d8f-4d95-af33-4f79cb949a72",
   "metadata": {},
   "outputs": [],
   "source": []
  }
 ],
 "metadata": {
  "kernelspec": {
   "display_name": "Python 3 (ipykernel)",
   "language": "python",
   "name": "python3"
  },
  "language_info": {
   "codemirror_mode": {
    "name": "ipython",
    "version": 3
   },
   "file_extension": ".py",
   "mimetype": "text/x-python",
   "name": "python",
   "nbconvert_exporter": "python",
   "pygments_lexer": "ipython3",
   "version": "3.11.5"
  }
 },
 "nbformat": 4,
 "nbformat_minor": 5
}
