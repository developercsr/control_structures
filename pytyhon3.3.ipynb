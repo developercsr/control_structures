{
 "cells": [
  {
   "cell_type": "code",
   "execution_count": 3,
   "id": "e09376ce-a740-4700-975e-51b6426ce299",
   "metadata": {},
   "outputs": [
    {
     "name": "stdout",
     "output_type": "stream",
     "text": [
      "Student Grades \n"
     ]
    },
    {
     "name": "stdin",
     "output_type": "stream",
     "text": [
      "Enter the student's 5 subjects marks seperated with commas \",\" -4,56,32,3345,99\n"
     ]
    },
    {
     "name": "stdout",
     "output_type": "stream",
     "text": [
      "For student in subject 1 the grade is :  Invalid\n",
      "For student in subject 2 the grade is :  GOOD\n",
      "For student in subject 3 the grade is :  FAIL\n",
      "For student in subject 4 the grade is :  INVALID\n",
      "For student in subject 5 the grade is :  EXCELLENT\n"
     ]
    }
   ],
   "source": [
    "#if-elif-else\n",
    "def main():\n",
    "    print(\"Student Grades \")\n",
    "    i=input((\"Enter the student's 5 subjects marks seperated with commas \\\",\\\"\"))\n",
    "    sub1,sub2,sub3,sub4,sub5=i.split(\",\")\n",
    "    print(\"For student in subject 1 the grade is : \",check(int(sub1)))\n",
    "    print(\"For student in subject 2 the grade is : \",check(int(sub2)))\n",
    "    print(\"For student in subject 3 the grade is : \",check(int(sub3)))\n",
    "    print(\"For student in subject 4 the grade is : \",check(int(sub4)))\n",
    "    print(\"For student in subject 5 the grade is : \",check(int(sub5)))\n",
    "def check(k):\n",
    "    if k<0:\n",
    "        return \"Invalid\"\n",
    "    elif k>=0 and k<35:\n",
    "        return \"FAIL\"\n",
    "    elif k>=35 and k<50:\n",
    "        return \"AVERAGE\"\n",
    "    elif k>=50 and k<75:\n",
    "        return \"GOOD\"\n",
    "    elif k>=75 and k<90:\n",
    "        return \"VERY GOOD\"\n",
    "    elif k>=90 and k<=100:\n",
    "        return \"EXCELLENT\"\n",
    "    else :\n",
    "        return \"INVALID\"\n",
    "    \n",
    "if __name__==\"__main__\":\n",
    "    main()\n"
   ]
  },
  {
   "cell_type": "code",
   "execution_count": null,
   "id": "8ed22c81-cd36-4fea-9ff3-6ca88d8ebdc3",
   "metadata": {},
   "outputs": [],
   "source": []
  }
 ],
 "metadata": {
  "kernelspec": {
   "display_name": "Python 3 (ipykernel)",
   "language": "python",
   "name": "python3"
  },
  "language_info": {
   "codemirror_mode": {
    "name": "ipython",
    "version": 3
   },
   "file_extension": ".py",
   "mimetype": "text/x-python",
   "name": "python",
   "nbconvert_exporter": "python",
   "pygments_lexer": "ipython3",
   "version": "3.11.5"
  }
 },
 "nbformat": 4,
 "nbformat_minor": 5
}
