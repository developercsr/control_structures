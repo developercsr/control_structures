{
 "cells": [
  {
   "cell_type": "code",
   "execution_count": null,
   "id": "a067c4f2-d2b5-437a-a7fb-06c4943f8677",
   "metadata": {},
   "outputs": [],
   "source": [
    "#for loop with different range values\n",
    "for i in range(11):\n",
    "    print(i,end=\" \")\n",
    "print(\"\\n\")\n",
    "for i in range(1,4):\n",
    "    print(i,end=\" \")\n",
    "print(\"\\n\")\n",
    "for i in range(3,9,2):\n",
    "    print(i,end=\" \")\n",
    "print(\"\\n\")\n",
    "for i in range(30,-5,-4):\n",
    "    print(i,end=\" \")"
   ]
  }
 ],
 "metadata": {
  "kernelspec": {
   "display_name": "Python 3 (ipykernel)",
   "language": "python",
   "name": "python3"
  },
  "language_info": {
   "codemirror_mode": {
    "name": "ipython",
    "version": 3
   },
   "file_extension": ".py",
   "mimetype": "text/x-python",
   "name": "python",
   "nbconvert_exporter": "python",
   "pygments_lexer": "ipython3",
   "version": "3.11.5"
  }
 },
 "nbformat": 4,
 "nbformat_minor": 5
}
