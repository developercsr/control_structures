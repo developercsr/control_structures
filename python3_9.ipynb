{
 "cells": [
  {
   "cell_type": "code",
   "execution_count": null,
   "id": "af5b3192-3985-4241-b2fc-dc7d623a8a3c",
   "metadata": {},
   "outputs": [],
   "source": [
    "#break continue ,pass\n",
    "#break completely terminates the loop\n",
    "for i in range(15):\n",
    "    if i==10:\n",
    "        break\n",
    "    print(i,\"-->\",end=\" \")\n",
    "print(\"\\n\")\n",
    "#continue :: stops just to that particualr iteration\n",
    "for i in range(15):\n",
    "    if i==10:\n",
    "        continue\n",
    "    print(i,\"-->\",end=\" \")\n",
    "print(\"\\n\")\n",
    "#pass will not do anything,it is just ,we should keep a function or iteration empty after declaring\n",
    "#so,we keep pass to avoid errors\n",
    "for i in range(15):\n",
    "    if i==10:\n",
    "        pass\n",
    "    print(i,\"-->\",end=\" \")"
   ]
  }
 ],
 "metadata": {
  "kernelspec": {
   "display_name": "Python 3 (ipykernel)",
   "language": "python",
   "name": "python3"
  },
  "language_info": {
   "codemirror_mode": {
    "name": "ipython",
    "version": 3
   },
   "file_extension": ".py",
   "mimetype": "text/x-python",
   "name": "python",
   "nbconvert_exporter": "python",
   "pygments_lexer": "ipython3",
   "version": "3.11.5"
  }
 },
 "nbformat": 4,
 "nbformat_minor": 5
}
