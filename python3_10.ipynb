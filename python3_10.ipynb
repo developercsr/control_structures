{
 "cells": [
  {
   "cell_type": "code",
   "execution_count": 4,
   "id": "e498ed10-2b3d-42d2-abc0-4d7aa10b8e7d",
   "metadata": {},
   "outputs": [
    {
     "name": "stdout",
     "output_type": "stream",
     "text": [
      "0 1 2 3 4 5 6 7 8 9 10 11 12 13 14 "
     ]
    }
   ],
   "source": [
    "#else block execute if the for code executes without break\n",
    "for i in range(15):\n",
    "    print(i,end=\" \")\n",
    "    if(i==14):\n",
    "        break\n",
    "else:\n",
    "    print(\"The code breaked\")"
   ]
  },
  {
   "cell_type": "code",
   "execution_count": 5,
   "id": "7fc70151-03b1-4983-8610-f06e9a08ee2c",
   "metadata": {},
   "outputs": [
    {
     "name": "stdout",
     "output_type": "stream",
     "text": [
      "0 1 2 3 4 5 6 7 8 9 10 11 12 13 14 The code breaked\n"
     ]
    }
   ],
   "source": [
    "for i in range(15):\n",
    "    print(i,end=\" \")\n",
    "    if(i==16):\n",
    "        break\n",
    "else:\n",
    "    print(\"The code breaked\")"
   ]
  }
 ],
 "metadata": {
  "kernelspec": {
   "display_name": "Python 3 (ipykernel)",
   "language": "python",
   "name": "python3"
  },
  "language_info": {
   "codemirror_mode": {
    "name": "ipython",
    "version": 3
   },
   "file_extension": ".py",
   "mimetype": "text/x-python",
   "name": "python",
   "nbconvert_exporter": "python",
   "pygments_lexer": "ipython3",
   "version": "3.11.5"
  }
 },
 "nbformat": 4,
 "nbformat_minor": 5
}
