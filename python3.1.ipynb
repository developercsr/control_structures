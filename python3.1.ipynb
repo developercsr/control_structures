{
 "cells": [
  {
   "cell_type": "code",
   "execution_count": 3,
   "id": "712f5f67-cd5f-453f-9776-754d8324eae2",
   "metadata": {},
   "outputs": [
    {
     "name": "stdin",
     "output_type": "stream",
     "text": [
      "Enter value of x :  34\n",
      "Enter value of y :  34\n"
     ]
    },
    {
     "name": "stdout",
     "output_type": "stream",
     "text": [
      "BOTH ARE SAME\n"
     ]
    }
   ],
   "source": [
    "##### we will calcualte the which number is greatest among 2 numbers\n",
    "def main():\n",
    "    x=int(input(\"Enter value of x : \"))\n",
    "    y=int(input(\"Enter value of y : \"))\n",
    "    if x>y:\n",
    "        print(\"The Bigger number is : \",x)\n",
    "    if x<y:\n",
    "        print(\"The Bigger number is : \",y)\n",
    "    if x==y:\n",
    "        print(\"BOTH ARE SAME\")\n",
    "if __name__==\"__main__\":\n",
    "    main()\n"
   ]
  }
 ],
 "metadata": {
  "kernelspec": {
   "display_name": "Python 3 (ipykernel)",
   "language": "python",
   "name": "python3"
  },
  "language_info": {
   "codemirror_mode": {
    "name": "ipython",
    "version": 3
   },
   "file_extension": ".py",
   "mimetype": "text/x-python",
   "name": "python",
   "nbconvert_exporter": "python",
   "pygments_lexer": "ipython3",
   "version": "3.11.5"
  }
 },
 "nbformat": 4,
 "nbformat_minor": 5
}
