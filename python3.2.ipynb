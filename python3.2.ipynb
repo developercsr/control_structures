{
 "cells": [
  {
   "cell_type": "code",
   "execution_count": 8,
   "id": "34c6b188-a035-4402-9393-1257c6b74ce1",
   "metadata": {},
   "outputs": [
    {
     "name": "stdin",
     "output_type": "stream",
     "text": [
      "Give the 5 subject marks seperted with commas \",\"  78,45,96,23,58\n"
     ]
    },
    {
     "name": "stdout",
     "output_type": "stream",
     "text": [
      "The student Marks are as follows : \n",
      " sub1 :  PASS\n",
      " sub2 :  PASS\n",
      " sub3 :  PASS\n",
      " sub4 :  FAIL\n",
      " sub5 :  PASS\n"
     ]
    }
   ],
   "source": [
    "#if condition : Decision Making statements\n",
    "def main():\n",
    "    i=input(\"Give the 5 subject marks seperted with commas \\\",\\\" \")\n",
    "    sub1,sub2,sub3,sub4,sub5=i.split(\",\")\n",
    "    print(\"The student Marks are as follows : \")\n",
    "    print(\" sub1 : \",check(int(sub1)))\n",
    "    print(\" sub2 : \",check(int(sub2)))\n",
    "    print(\" sub3 : \",check(int(sub3)))\n",
    "    print(\" sub4 : \",check(int(sub4)))\n",
    "    print(\" sub5 : \",check(int(sub5)))\n",
    "\n",
    "\n",
    "def check(k):\n",
    "    if k>35:\n",
    "        return \"PASS\"\n",
    "    else:\n",
    "        return \"FAIL\"\n",
    "\n",
    "\n",
    "if __name__==\"__main__\":\n",
    "    main()\n"
   ]
  }
 ],
 "metadata": {
  "kernelspec": {
   "display_name": "Python 3 (ipykernel)",
   "language": "python",
   "name": "python3"
  },
  "language_info": {
   "codemirror_mode": {
    "name": "ipython",
    "version": 3
   },
   "file_extension": ".py",
   "mimetype": "text/x-python",
   "name": "python",
   "nbconvert_exporter": "python",
   "pygments_lexer": "ipython3",
   "version": "3.11.5"
  }
 },
 "nbformat": 4,
 "nbformat_minor": 5
}
